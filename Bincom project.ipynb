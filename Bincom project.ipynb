{
 "cells": [
  {
   "cell_type": "code",
   "execution_count": 1,
   "metadata": {},
   "outputs": [],
   "source": [
    "# 1.      Which color of shirt is the mean color?\n",
    "# 2.      Which color is mostly worn throughout the week?\n",
    "# 3.      Which color is the median?\n",
    "# 4.      BONUS Get the variance of the colors\n",
    "# 5.      BONUS if a colour is chosen at random, what is the probability that the color is red?\n",
    "# 6.      Save the colours and their frequencies in postgresql database\n",
    "# 7.      BONUS write a recursive searching algorithm to search for a number entered by user in a list of numbers.\n",
    "# 8.      Write a program that generates random 4 digits number of 0s and 1s and convert the generated number to base 10.\n",
    "# 9.      Write a program to sum the first 50 fibonacci sequence.\n"
   ]
  },
  {
   "cell_type": "code",
   "execution_count": 2,
   "metadata": {},
   "outputs": [],
   "source": [
    "import numpy as np\n",
    "import pandas as pd"
   ]
  },
  {
   "cell_type": "code",
   "execution_count": 3,
   "metadata": {},
   "outputs": [],
   "source": [
    "x = pd.read_html('python_class_question.html')"
   ]
  },
  {
   "cell_type": "code",
   "execution_count": 4,
   "metadata": {},
   "outputs": [],
   "source": [
    "x_table = pd.DataFrame(x[0])"
   ]
  },
  {
   "cell_type": "code",
   "execution_count": 5,
   "metadata": {},
   "outputs": [
    {
     "data": {
      "text/html": [
       "<div>\n",
       "<style scoped>\n",
       "    .dataframe tbody tr th:only-of-type {\n",
       "        vertical-align: middle;\n",
       "    }\n",
       "\n",
       "    .dataframe tbody tr th {\n",
       "        vertical-align: top;\n",
       "    }\n",
       "\n",
       "    .dataframe thead th {\n",
       "        text-align: right;\n",
       "    }\n",
       "</style>\n",
       "<table border=\"1\" class=\"dataframe\">\n",
       "  <thead>\n",
       "    <tr style=\"text-align: right;\">\n",
       "      <th></th>\n",
       "      <th>DAY</th>\n",
       "      <th>COLOURS</th>\n",
       "    </tr>\n",
       "  </thead>\n",
       "  <tbody>\n",
       "    <tr>\n",
       "      <th>0</th>\n",
       "      <td>MONDAY</td>\n",
       "      <td>GREEN, YELLOW, GREEN, BROWN, BLUE, PINK, BLUE,...</td>\n",
       "    </tr>\n",
       "    <tr>\n",
       "      <th>1</th>\n",
       "      <td>TUESDAY</td>\n",
       "      <td>ARSH, BROWN, GREEN, BROWN, BLUE, BLUE, BLEW, P...</td>\n",
       "    </tr>\n",
       "    <tr>\n",
       "      <th>2</th>\n",
       "      <td>WEDNESDAY</td>\n",
       "      <td>GREEN, YELLOW, GREEN, BROWN, BLUE, PINK, RED, ...</td>\n",
       "    </tr>\n",
       "    <tr>\n",
       "      <th>3</th>\n",
       "      <td>THURSDAY</td>\n",
       "      <td>BLUE, BLUE, GREEN, WHITE, BLUE, BROWN, PINK, Y...</td>\n",
       "    </tr>\n",
       "    <tr>\n",
       "      <th>4</th>\n",
       "      <td>FRIDAY</td>\n",
       "      <td>GREEN, WHITE, GREEN, BROWN, BLUE, BLUE, BLACK,...</td>\n",
       "    </tr>\n",
       "  </tbody>\n",
       "</table>\n",
       "</div>"
      ],
      "text/plain": [
       "         DAY                                            COLOURS\n",
       "0     MONDAY  GREEN, YELLOW, GREEN, BROWN, BLUE, PINK, BLUE,...\n",
       "1    TUESDAY  ARSH, BROWN, GREEN, BROWN, BLUE, BLUE, BLEW, P...\n",
       "2  WEDNESDAY  GREEN, YELLOW, GREEN, BROWN, BLUE, PINK, RED, ...\n",
       "3   THURSDAY  BLUE, BLUE, GREEN, WHITE, BLUE, BROWN, PINK, Y...\n",
       "4     FRIDAY  GREEN, WHITE, GREEN, BROWN, BLUE, BLUE, BLACK,..."
      ]
     },
     "execution_count": 5,
     "metadata": {},
     "output_type": "execute_result"
    }
   ],
   "source": [
    "x_table"
   ]
  },
  {
   "cell_type": "code",
   "execution_count": 6,
   "metadata": {},
   "outputs": [
    {
     "name": "stdout",
     "output_type": "stream",
     "text": [
      "GREEN, YELLOW, GREEN, BROWN, BLUE, PINK, BLUE, YELLOW, ORANGE, CREAM, ORANGE, RED, WHITE, BLUE, WHITE, BLUE, BLUE, BLUE, GREEN\n",
      "ARSH, BROWN, GREEN, BROWN, BLUE, BLUE, BLEW, PINK, PINK, ORANGE, ORANGE, RED, WHITE, BLUE, WHITE, WHITE, BLUE, BLUE, BLUE\n",
      "GREEN, YELLOW, GREEN, BROWN, BLUE, PINK, RED, YELLOW, ORANGE, RED, ORANGE, RED, BLUE, BLUE, WHITE, BLUE, BLUE, WHITE, WHITE\n",
      "BLUE, BLUE, GREEN, WHITE, BLUE, BROWN, PINK, YELLOW, ORANGE, CREAM, ORANGE, RED, WHITE, BLUE, WHITE, BLUE, BLUE, BLUE, GREEN\n",
      "GREEN, WHITE, GREEN, BROWN, BLUE, BLUE, BLACK, WHITE, ORANGE, RED, RED, RED, WHITE, BLUE, WHITE, BLUE, BLUE, BLUE, WHITE\n"
     ]
    }
   ],
   "source": [
    "colours = []\n",
    "for i in range(len(x_table['DAY'])):\n",
    "    print(x_table['COLOURS'][i])\n",
    "    colours.append(x_table['COLOURS'][i])\n",
    "    \n",
    "        \n",
    "#colours\n",
    "#len(x_table['DAY'])"
   ]
  },
  {
   "cell_type": "code",
   "execution_count": 7,
   "metadata": {},
   "outputs": [],
   "source": [
    "mid_week_colours = colours[(len(colours)-1)//2]\n",
    "median_colour = list(mid_week_colours[(len(mid_week_colours)-1)//2])\n",
    "median_colour = mid_week_colours.split(',')[(len(mid_week_colours.split(','))-1)//2]"
   ]
  },
  {
   "cell_type": "code",
   "execution_count": 8,
   "metadata": {},
   "outputs": [
    {
     "data": {
      "text/plain": [
       "' RED'"
      ]
     },
     "execution_count": 8,
     "metadata": {},
     "output_type": "execute_result"
    }
   ],
   "source": [
    "median_colour"
   ]
  },
  {
   "cell_type": "code",
   "execution_count": 91,
   "metadata": {},
   "outputs": [
    {
     "name": "stdout",
     "output_type": "stream",
     "text": [
      "[0, 1, 1, 2, 3, 5, 8, 13, 21, 34, 55, 89, 144, 233, 377, 610, 987, 1597, 2584, 4181, 6765, 10946, 17711, 28657, 46368, 75025, 121393, 196418, 317811, 514229, 832040, 1346269, 2178309, 3524578, 5702887, 9227465, 14930352, 24157817, 39088169, 63245986, 102334155, 165580141, 267914296, 433494437, 701408733, 1134903170, 1836311903, 2971215073, 4807526976, 7778742049]\n"
     ]
    }
   ],
   "source": [
    "# 9. FIBONACCI\n",
    "range_ = 50\n",
    "lxt = [0,1]\n",
    "for n in range(1,range_-1):\n",
    "    next_num = lxt[-1]+lxt[n-1]\n",
    "    n+=1\n",
    "        \n",
    "    lxt.append(next_num)\n",
    "        \n",
    "print(lxt)"
   ]
  },
  {
   "cell_type": "code",
   "execution_count": 98,
   "metadata": {},
   "outputs": [
    {
     "data": {
      "text/plain": [
       "['GREEN, YELLOW, GREEN, BROWN, BLUE, PINK, BLUE, YELLOW, ORANGE, CREAM, ORANGE, RED, WHITE, BLUE, WHITE, BLUE, BLUE, BLUE, GREEN',\n",
       " 'ARSH, BROWN, GREEN, BROWN, BLUE, BLUE, BLEW, PINK, PINK, ORANGE, ORANGE, RED, WHITE, BLUE, WHITE, WHITE, BLUE, BLUE, BLUE',\n",
       " 'GREEN, YELLOW, GREEN, BROWN, BLUE, PINK, RED, YELLOW, ORANGE, RED, ORANGE, RED, BLUE, BLUE, WHITE, BLUE, BLUE, WHITE, WHITE',\n",
       " 'BLUE, BLUE, GREEN, WHITE, BLUE, BROWN, PINK, YELLOW, ORANGE, CREAM, ORANGE, RED, WHITE, BLUE, WHITE, BLUE, BLUE, BLUE, GREEN',\n",
       " 'GREEN, WHITE, GREEN, BROWN, BLUE, BLUE, BLACK, WHITE, ORANGE, RED, RED, RED, WHITE, BLUE, WHITE, BLUE, BLUE, BLUE, WHITE']"
      ]
     },
     "execution_count": 98,
     "metadata": {},
     "output_type": "execute_result"
    }
   ],
   "source": [
    "colours[:]"
   ]
  },
  {
   "cell_type": "code",
   "execution_count": 126,
   "metadata": {},
   "outputs": [
    {
     "name": "stdout",
     "output_type": "stream",
     "text": [
      "Counter({' BLUE': 6, ' YELLOW': 2, ' GREEN': 2, ' ORANGE': 2, ' WHITE': 2, 'GREEN': 1, ' BROWN': 1, ' PINK': 1, ' CREAM': 1, ' RED': 1})\n",
      "Counter({' BLUE': 6, ' WHITE': 3, ' BROWN': 2, ' PINK': 2, ' ORANGE': 2, 'ARSH': 1, ' GREEN': 1, ' BLEW': 1, ' RED': 1})\n",
      "Counter({' BLUE': 5, ' RED': 3, ' WHITE': 3, ' YELLOW': 2, ' ORANGE': 2, 'GREEN': 1, ' GREEN': 1, ' BROWN': 1, ' PINK': 1})\n",
      "Counter({' BLUE': 6, ' WHITE': 3, ' GREEN': 2, ' ORANGE': 2, 'BLUE': 1, ' BROWN': 1, ' PINK': 1, ' YELLOW': 1, ' CREAM': 1, ' RED': 1})\n",
      "Counter({' BLUE': 6, ' WHITE': 5, ' RED': 3, 'GREEN': 1, ' GREEN': 1, ' BROWN': 1, ' BLACK': 1, ' ORANGE': 1})\n"
     ]
    }
   ],
   "source": [
    "# 2. MOST WORN COLOUR IS BLUE, # 1. Mean colour is BLUE\n",
    "import collections\n",
    "#collections.Counter(x_table['COLOURS'][0])\n",
    "for i in range(5):\n",
    "    x = collections.Counter(x_table['COLOURS'][i].split(','))\n",
    "    print(x)"
   ]
  },
  {
   "cell_type": "code",
   "execution_count": 19,
   "metadata": {},
   "outputs": [
    {
     "name": "stdout",
     "output_type": "stream",
     "text": [
      " The binary number is :  0001\n"
     ]
    }
   ],
   "source": [
    "# 8. Generate random binary numbers and convert to base 10\n",
    "\n",
    "# Python program for random \n",
    "# binary string generation \n",
    "  \n",
    "import random \n",
    "import math\n",
    "  \n",
    "# Function to create the \n",
    "# random binary string \n",
    "def rand_key(p): \n",
    "    \n",
    "    # Variable to store the  \n",
    "    # string \n",
    "    key1 = \"\" \n",
    "  \n",
    "    # Loop to find the string \n",
    "    # of desired length \n",
    "    for i in range(p): \n",
    "          \n",
    "        # randint function to generate \n",
    "        # 0, 1 randomly and converting  \n",
    "        # the result into str \n",
    "        temp = str(random.randint(0, 1)) \n",
    "  \n",
    "        # Concatenatin the random 0, 1 \n",
    "        # to the final result \n",
    "        key1 += temp \n",
    "          \n",
    "    return(key1) \n",
    "  \n",
    "# Driver Code \n",
    "p = 4\n",
    "b = rand_key(p) \n",
    "print(\" The binary number is : \", b) \n",
    "\n",
    "\n",
    "def bin2dec(b):\n",
    "    number = 0\n",
    "    for idx, num in enumerate(b[::-1]): # Iterating through b in reverse order\n",
    "        number += int(num)*(2**idx)\n",
    "\n",
    "    return number\n"
   ]
  },
  {
   "cell_type": "code",
   "execution_count": 20,
   "metadata": {},
   "outputs": [],
   "source": [
    "\n",
    "\n",
    "def bin2dec(b):\n",
    "    number = 0\n",
    "    for idx, num in enumerate(b[::-1]): # Iterating through b in reverse order\n",
    "        number += int(num)*(2**idx)\n",
    "\n",
    "    return number"
   ]
  },
  {
   "cell_type": "code",
   "execution_count": 21,
   "metadata": {},
   "outputs": [
    {
     "data": {
      "text/plain": [
       "1"
      ]
     },
     "execution_count": 21,
     "metadata": {},
     "output_type": "execute_result"
    }
   ],
   "source": [
    "bin2dec(b)"
   ]
  },
  {
   "cell_type": "code",
   "execution_count": null,
   "metadata": {},
   "outputs": [],
   "source": []
  }
 ],
 "metadata": {
  "kernelspec": {
   "display_name": "Python 3",
   "language": "python",
   "name": "python3"
  },
  "language_info": {
   "codemirror_mode": {
    "name": "ipython",
    "version": 3
   },
   "file_extension": ".py",
   "mimetype": "text/x-python",
   "name": "python",
   "nbconvert_exporter": "python",
   "pygments_lexer": "ipython3",
   "version": "3.7.0"
  }
 },
 "nbformat": 4,
 "nbformat_minor": 2
}
